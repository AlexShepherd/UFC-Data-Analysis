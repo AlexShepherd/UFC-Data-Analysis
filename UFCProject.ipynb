{
 "cells": [
  {
   "cell_type": "code",
   "execution_count": 28,
   "id": "4a74ae3a-f49b-4bf1-b6e6-3e4c951c93f2",
   "metadata": {},
   "outputs": [],
   "source": [
    "import pandas as pd\n",
    "import numpy as np\n",
    "import matplotlib.pyplot as plt\n",
    "import seaborn as sns"
   ]
  },
  {
   "cell_type": "code",
   "execution_count": 2,
   "id": "eb4a6d44-6490-4881-9027-9a0cc58e923b",
   "metadata": {},
   "outputs": [],
   "source": [
    "#Run this when you've made some plots to see the difference\n",
    "\n",
    "%matplotlib inline"
   ]
  },
  {
   "cell_type": "code",
   "execution_count": 3,
   "id": "00d8d41d-75ea-426a-9f97-523d044daf8e",
   "metadata": {},
   "outputs": [],
   "source": [
    "data = pd.read_csv('ufc-fighters-statistics.csv')"
   ]
  },
  {
   "cell_type": "markdown",
   "id": "f872f4b9-a90f-4569-bfff-a0ddfb834708",
   "metadata": {},
   "source": [
    "### Getting a feel for the data ###"
   ]
  },
  {
   "cell_type": "code",
   "execution_count": 4,
   "id": "f5c2282e-ad16-4d7a-80a5-b3a828319129",
   "metadata": {},
   "outputs": [
    {
     "data": {
      "text/plain": [
       "0"
      ]
     },
     "execution_count": 4,
     "metadata": {},
     "output_type": "execute_result"
    }
   ],
   "source": [
    "data.duplicated().sum() # Makes sure there isn't any duplicated rows in the data"
   ]
  },
  {
   "cell_type": "code",
   "execution_count": 5,
   "id": "2f9738d5-cdea-4f8d-83df-588f733af076",
   "metadata": {
    "scrolled": true
   },
   "outputs": [
    {
     "data": {
      "text/plain": [
       "(4111, 18)"
      ]
     },
     "execution_count": 5,
     "metadata": {},
     "output_type": "execute_result"
    }
   ],
   "source": [
    "data.shape # Check the number of rows and columns. This dataset contains 4111 rows and 18 columns"
   ]
  },
  {
   "cell_type": "code",
   "execution_count": 6,
   "id": "6e2977dd-0fab-414f-8366-774de2c79782",
   "metadata": {},
   "outputs": [
    {
     "name": "stdout",
     "output_type": "stream",
     "text": [
      "<class 'pandas.core.frame.DataFrame'>\n",
      "RangeIndex: 4111 entries, 0 to 4110\n",
      "Data columns (total 18 columns):\n",
      " #   Column                                        Non-Null Count  Dtype  \n",
      "---  ------                                        --------------  -----  \n",
      " 0   name                                          4111 non-null   object \n",
      " 1   nickname                                      2257 non-null   object \n",
      " 2   wins                                          4111 non-null   int64  \n",
      " 3   losses                                        4111 non-null   int64  \n",
      " 4   draws                                         4111 non-null   int64  \n",
      " 5   height_cm                                     3813 non-null   float64\n",
      " 6   weight_in_kg                                  4024 non-null   float64\n",
      " 7   reach_in_cm                                   2184 non-null   float64\n",
      " 8   stance                                        3288 non-null   object \n",
      " 9   date_of_birth                                 2976 non-null   object \n",
      " 10  significant_strikes_landed_per_minute         4111 non-null   float64\n",
      " 11  significant_striking_accuracy                 4111 non-null   float64\n",
      " 12  significant_strikes_absorbed_per_minute       4111 non-null   float64\n",
      " 13  significant_strike_defence                    4111 non-null   float64\n",
      " 14  average_takedowns_landed_per_15_minutes       4111 non-null   float64\n",
      " 15  takedown_accuracy                             4111 non-null   float64\n",
      " 16  takedown_defense                              4111 non-null   float64\n",
      " 17  average_submissions_attempted_per_15_minutes  4111 non-null   float64\n",
      "dtypes: float64(11), int64(3), object(4)\n",
      "memory usage: 578.2+ KB\n"
     ]
    }
   ],
   "source": [
    "data.info() # Summary information about the dataset"
   ]
  },
  {
   "cell_type": "code",
   "execution_count": 7,
   "id": "98ce4f06-9974-402d-ad38-e6763b2c1295",
   "metadata": {},
   "outputs": [
    {
     "data": {
      "text/html": [
       "<div>\n",
       "<style scoped>\n",
       "    .dataframe tbody tr th:only-of-type {\n",
       "        vertical-align: middle;\n",
       "    }\n",
       "\n",
       "    .dataframe tbody tr th {\n",
       "        vertical-align: top;\n",
       "    }\n",
       "\n",
       "    .dataframe thead th {\n",
       "        text-align: right;\n",
       "    }\n",
       "</style>\n",
       "<table border=\"1\" class=\"dataframe\">\n",
       "  <thead>\n",
       "    <tr style=\"text-align: right;\">\n",
       "      <th></th>\n",
       "      <th>wins</th>\n",
       "      <th>losses</th>\n",
       "      <th>draws</th>\n",
       "      <th>height_cm</th>\n",
       "      <th>weight_in_kg</th>\n",
       "      <th>reach_in_cm</th>\n",
       "      <th>significant_strikes_landed_per_minute</th>\n",
       "      <th>significant_striking_accuracy</th>\n",
       "      <th>significant_strikes_absorbed_per_minute</th>\n",
       "      <th>significant_strike_defence</th>\n",
       "      <th>average_takedowns_landed_per_15_minutes</th>\n",
       "      <th>takedown_accuracy</th>\n",
       "      <th>takedown_defense</th>\n",
       "      <th>average_submissions_attempted_per_15_minutes</th>\n",
       "    </tr>\n",
       "  </thead>\n",
       "  <tbody>\n",
       "    <tr>\n",
       "      <th>count</th>\n",
       "      <td>4111.000000</td>\n",
       "      <td>4111.000000</td>\n",
       "      <td>4111.000000</td>\n",
       "      <td>3813.000000</td>\n",
       "      <td>4024.000000</td>\n",
       "      <td>2184.000000</td>\n",
       "      <td>4111.000000</td>\n",
       "      <td>4111.000000</td>\n",
       "      <td>4111.000000</td>\n",
       "      <td>4111.000000</td>\n",
       "      <td>4111.000000</td>\n",
       "      <td>4111.000000</td>\n",
       "      <td>4111.000000</td>\n",
       "      <td>4111.000000</td>\n",
       "    </tr>\n",
       "    <tr>\n",
       "      <th>mean</th>\n",
       "      <td>12.366821</td>\n",
       "      <td>5.726344</td>\n",
       "      <td>0.264413</td>\n",
       "      <td>178.234325</td>\n",
       "      <td>77.395825</td>\n",
       "      <td>181.808874</td>\n",
       "      <td>2.437516</td>\n",
       "      <td>35.542447</td>\n",
       "      <td>3.145206</td>\n",
       "      <td>42.643639</td>\n",
       "      <td>1.250586</td>\n",
       "      <td>26.299927</td>\n",
       "      <td>38.958891</td>\n",
       "      <td>0.610095</td>\n",
       "    </tr>\n",
       "    <tr>\n",
       "      <th>std</th>\n",
       "      <td>9.374667</td>\n",
       "      <td>5.103768</td>\n",
       "      <td>0.822373</td>\n",
       "      <td>8.888050</td>\n",
       "      <td>17.982242</td>\n",
       "      <td>10.680804</td>\n",
       "      <td>1.990903</td>\n",
       "      <td>20.398502</td>\n",
       "      <td>2.848502</td>\n",
       "      <td>22.322427</td>\n",
       "      <td>1.935716</td>\n",
       "      <td>28.700980</td>\n",
       "      <td>34.426458</td>\n",
       "      <td>1.505924</td>\n",
       "    </tr>\n",
       "    <tr>\n",
       "      <th>min</th>\n",
       "      <td>0.000000</td>\n",
       "      <td>0.000000</td>\n",
       "      <td>0.000000</td>\n",
       "      <td>152.400000</td>\n",
       "      <td>47.630000</td>\n",
       "      <td>147.320000</td>\n",
       "      <td>0.000000</td>\n",
       "      <td>0.000000</td>\n",
       "      <td>0.000000</td>\n",
       "      <td>0.000000</td>\n",
       "      <td>0.000000</td>\n",
       "      <td>0.000000</td>\n",
       "      <td>0.000000</td>\n",
       "      <td>0.000000</td>\n",
       "    </tr>\n",
       "    <tr>\n",
       "      <th>25%</th>\n",
       "      <td>7.000000</td>\n",
       "      <td>2.000000</td>\n",
       "      <td>0.000000</td>\n",
       "      <td>172.720000</td>\n",
       "      <td>65.770000</td>\n",
       "      <td>175.260000</td>\n",
       "      <td>0.830000</td>\n",
       "      <td>27.000000</td>\n",
       "      <td>1.550000</td>\n",
       "      <td>36.000000</td>\n",
       "      <td>0.000000</td>\n",
       "      <td>0.000000</td>\n",
       "      <td>0.000000</td>\n",
       "      <td>0.000000</td>\n",
       "    </tr>\n",
       "    <tr>\n",
       "      <th>50%</th>\n",
       "      <td>11.000000</td>\n",
       "      <td>5.000000</td>\n",
       "      <td>0.000000</td>\n",
       "      <td>177.800000</td>\n",
       "      <td>77.110000</td>\n",
       "      <td>182.880000</td>\n",
       "      <td>2.330000</td>\n",
       "      <td>40.000000</td>\n",
       "      <td>2.940000</td>\n",
       "      <td>50.000000</td>\n",
       "      <td>0.590000</td>\n",
       "      <td>22.000000</td>\n",
       "      <td>42.000000</td>\n",
       "      <td>0.000000</td>\n",
       "    </tr>\n",
       "    <tr>\n",
       "      <th>75%</th>\n",
       "      <td>17.000000</td>\n",
       "      <td>8.000000</td>\n",
       "      <td>0.000000</td>\n",
       "      <td>185.420000</td>\n",
       "      <td>83.910000</td>\n",
       "      <td>190.500000</td>\n",
       "      <td>3.600000</td>\n",
       "      <td>49.000000</td>\n",
       "      <td>4.230000</td>\n",
       "      <td>58.000000</td>\n",
       "      <td>1.940000</td>\n",
       "      <td>45.000000</td>\n",
       "      <td>66.000000</td>\n",
       "      <td>0.700000</td>\n",
       "    </tr>\n",
       "    <tr>\n",
       "      <th>max</th>\n",
       "      <td>253.000000</td>\n",
       "      <td>83.000000</td>\n",
       "      <td>11.000000</td>\n",
       "      <td>226.060000</td>\n",
       "      <td>349.270000</td>\n",
       "      <td>213.360000</td>\n",
       "      <td>17.650000</td>\n",
       "      <td>100.000000</td>\n",
       "      <td>52.500000</td>\n",
       "      <td>100.000000</td>\n",
       "      <td>32.140000</td>\n",
       "      <td>100.000000</td>\n",
       "      <td>100.000000</td>\n",
       "      <td>21.900000</td>\n",
       "    </tr>\n",
       "  </tbody>\n",
       "</table>\n",
       "</div>"
      ],
      "text/plain": [
       "              wins       losses        draws    height_cm  weight_in_kg  \\\n",
       "count  4111.000000  4111.000000  4111.000000  3813.000000   4024.000000   \n",
       "mean     12.366821     5.726344     0.264413   178.234325     77.395825   \n",
       "std       9.374667     5.103768     0.822373     8.888050     17.982242   \n",
       "min       0.000000     0.000000     0.000000   152.400000     47.630000   \n",
       "25%       7.000000     2.000000     0.000000   172.720000     65.770000   \n",
       "50%      11.000000     5.000000     0.000000   177.800000     77.110000   \n",
       "75%      17.000000     8.000000     0.000000   185.420000     83.910000   \n",
       "max     253.000000    83.000000    11.000000   226.060000    349.270000   \n",
       "\n",
       "       reach_in_cm  significant_strikes_landed_per_minute  \\\n",
       "count  2184.000000                            4111.000000   \n",
       "mean    181.808874                               2.437516   \n",
       "std      10.680804                               1.990903   \n",
       "min     147.320000                               0.000000   \n",
       "25%     175.260000                               0.830000   \n",
       "50%     182.880000                               2.330000   \n",
       "75%     190.500000                               3.600000   \n",
       "max     213.360000                              17.650000   \n",
       "\n",
       "       significant_striking_accuracy  significant_strikes_absorbed_per_minute  \\\n",
       "count                    4111.000000                              4111.000000   \n",
       "mean                       35.542447                                 3.145206   \n",
       "std                        20.398502                                 2.848502   \n",
       "min                         0.000000                                 0.000000   \n",
       "25%                        27.000000                                 1.550000   \n",
       "50%                        40.000000                                 2.940000   \n",
       "75%                        49.000000                                 4.230000   \n",
       "max                       100.000000                                52.500000   \n",
       "\n",
       "       significant_strike_defence  average_takedowns_landed_per_15_minutes  \\\n",
       "count                 4111.000000                              4111.000000   \n",
       "mean                    42.643639                                 1.250586   \n",
       "std                     22.322427                                 1.935716   \n",
       "min                      0.000000                                 0.000000   \n",
       "25%                     36.000000                                 0.000000   \n",
       "50%                     50.000000                                 0.590000   \n",
       "75%                     58.000000                                 1.940000   \n",
       "max                    100.000000                                32.140000   \n",
       "\n",
       "       takedown_accuracy  takedown_defense  \\\n",
       "count        4111.000000       4111.000000   \n",
       "mean           26.299927         38.958891   \n",
       "std            28.700980         34.426458   \n",
       "min             0.000000          0.000000   \n",
       "25%             0.000000          0.000000   \n",
       "50%            22.000000         42.000000   \n",
       "75%            45.000000         66.000000   \n",
       "max           100.000000        100.000000   \n",
       "\n",
       "       average_submissions_attempted_per_15_minutes  \n",
       "count                                   4111.000000  \n",
       "mean                                       0.610095  \n",
       "std                                        1.505924  \n",
       "min                                        0.000000  \n",
       "25%                                        0.000000  \n",
       "50%                                        0.000000  \n",
       "75%                                        0.700000  \n",
       "max                                       21.900000  "
      ]
     },
     "execution_count": 7,
     "metadata": {},
     "output_type": "execute_result"
    }
   ],
   "source": [
    "data.describe() # Generates some descriptive statistics about the data"
   ]
  },
  {
   "cell_type": "code",
   "execution_count": 8,
   "id": "85ce339f-ddd2-4a54-ba77-8e1b3c894f2a",
   "metadata": {},
   "outputs": [],
   "source": [
    "# Noticed that the highest weight value is extremely big relative to the percentiles. Let's check a few of the heaviest fighters."
   ]
  },
  {
   "cell_type": "code",
   "execution_count": 9,
   "id": "3bd320db-fa0b-4355-81df-3cc6ce6bced2",
   "metadata": {},
   "outputs": [
    {
     "data": {
      "text/html": [
       "<div>\n",
       "<style scoped>\n",
       "    .dataframe tbody tr th:only-of-type {\n",
       "        vertical-align: middle;\n",
       "    }\n",
       "\n",
       "    .dataframe tbody tr th {\n",
       "        vertical-align: top;\n",
       "    }\n",
       "\n",
       "    .dataframe thead th {\n",
       "        text-align: right;\n",
       "    }\n",
       "</style>\n",
       "<table border=\"1\" class=\"dataframe\">\n",
       "  <thead>\n",
       "    <tr style=\"text-align: right;\">\n",
       "      <th></th>\n",
       "      <th>name</th>\n",
       "      <th>nickname</th>\n",
       "      <th>wins</th>\n",
       "      <th>losses</th>\n",
       "      <th>draws</th>\n",
       "      <th>height_cm</th>\n",
       "      <th>weight_in_kg</th>\n",
       "      <th>reach_in_cm</th>\n",
       "      <th>stance</th>\n",
       "      <th>date_of_birth</th>\n",
       "      <th>significant_strikes_landed_per_minute</th>\n",
       "      <th>significant_striking_accuracy</th>\n",
       "      <th>significant_strikes_absorbed_per_minute</th>\n",
       "      <th>significant_strike_defence</th>\n",
       "      <th>average_takedowns_landed_per_15_minutes</th>\n",
       "      <th>takedown_accuracy</th>\n",
       "      <th>takedown_defense</th>\n",
       "      <th>average_submissions_attempted_per_15_minutes</th>\n",
       "    </tr>\n",
       "  </thead>\n",
       "  <tbody>\n",
       "    <tr>\n",
       "      <th>4069</th>\n",
       "      <td>Emmanuel Yarborough</td>\n",
       "      <td>NaN</td>\n",
       "      <td>1</td>\n",
       "      <td>2</td>\n",
       "      <td>0</td>\n",
       "      <td>203.20</td>\n",
       "      <td>349.27</td>\n",
       "      <td>NaN</td>\n",
       "      <td>Open Stance</td>\n",
       "      <td>1960-09-05</td>\n",
       "      <td>0.00</td>\n",
       "      <td>0.0</td>\n",
       "      <td>0.00</td>\n",
       "      <td>0.0</td>\n",
       "      <td>0.0</td>\n",
       "      <td>0.0</td>\n",
       "      <td>0.0</td>\n",
       "      <td>0.0</td>\n",
       "    </tr>\n",
       "    <tr>\n",
       "      <th>2731</th>\n",
       "      <td>Teila Tuli</td>\n",
       "      <td>NaN</td>\n",
       "      <td>0</td>\n",
       "      <td>1</td>\n",
       "      <td>0</td>\n",
       "      <td>182.88</td>\n",
       "      <td>195.04</td>\n",
       "      <td>NaN</td>\n",
       "      <td>Orthodox</td>\n",
       "      <td>1969-06-14</td>\n",
       "      <td>0.00</td>\n",
       "      <td>0.0</td>\n",
       "      <td>0.00</td>\n",
       "      <td>0.0</td>\n",
       "      <td>0.0</td>\n",
       "      <td>0.0</td>\n",
       "      <td>0.0</td>\n",
       "      <td>0.0</td>\n",
       "    </tr>\n",
       "    <tr>\n",
       "      <th>3815</th>\n",
       "      <td>Thomas Ramirez</td>\n",
       "      <td>NaN</td>\n",
       "      <td>0</td>\n",
       "      <td>1</td>\n",
       "      <td>0</td>\n",
       "      <td>185.42</td>\n",
       "      <td>185.97</td>\n",
       "      <td>NaN</td>\n",
       "      <td>Sideways</td>\n",
       "      <td>NaN</td>\n",
       "      <td>0.00</td>\n",
       "      <td>0.0</td>\n",
       "      <td>0.00</td>\n",
       "      <td>0.0</td>\n",
       "      <td>0.0</td>\n",
       "      <td>0.0</td>\n",
       "      <td>0.0</td>\n",
       "      <td>0.0</td>\n",
       "    </tr>\n",
       "    <tr>\n",
       "      <th>2819</th>\n",
       "      <td>Cory Peterson</td>\n",
       "      <td>LA Giant</td>\n",
       "      <td>2</td>\n",
       "      <td>1</td>\n",
       "      <td>0</td>\n",
       "      <td>210.82</td>\n",
       "      <td>181.44</td>\n",
       "      <td>NaN</td>\n",
       "      <td>Orthodox</td>\n",
       "      <td>NaN</td>\n",
       "      <td>2.17</td>\n",
       "      <td>60.0</td>\n",
       "      <td>6.51</td>\n",
       "      <td>40.0</td>\n",
       "      <td>0.0</td>\n",
       "      <td>0.0</td>\n",
       "      <td>0.0</td>\n",
       "      <td>0.0</td>\n",
       "    </tr>\n",
       "    <tr>\n",
       "      <th>3174</th>\n",
       "      <td>John Matua</td>\n",
       "      <td>NaN</td>\n",
       "      <td>1</td>\n",
       "      <td>4</td>\n",
       "      <td>0</td>\n",
       "      <td>187.96</td>\n",
       "      <td>181.44</td>\n",
       "      <td>NaN</td>\n",
       "      <td>Orthodox</td>\n",
       "      <td>NaN</td>\n",
       "      <td>0.00</td>\n",
       "      <td>0.0</td>\n",
       "      <td>0.00</td>\n",
       "      <td>0.0</td>\n",
       "      <td>0.0</td>\n",
       "      <td>0.0</td>\n",
       "      <td>0.0</td>\n",
       "      <td>0.0</td>\n",
       "    </tr>\n",
       "  </tbody>\n",
       "</table>\n",
       "</div>"
      ],
      "text/plain": [
       "                     name  nickname  wins  losses  draws  height_cm  \\\n",
       "4069  Emmanuel Yarborough       NaN     1       2      0     203.20   \n",
       "2731           Teila Tuli       NaN     0       1      0     182.88   \n",
       "3815       Thomas Ramirez       NaN     0       1      0     185.42   \n",
       "2819        Cory Peterson  LA Giant     2       1      0     210.82   \n",
       "3174           John Matua       NaN     1       4      0     187.96   \n",
       "\n",
       "      weight_in_kg  reach_in_cm       stance date_of_birth  \\\n",
       "4069        349.27          NaN  Open Stance    1960-09-05   \n",
       "2731        195.04          NaN     Orthodox    1969-06-14   \n",
       "3815        185.97          NaN     Sideways           NaN   \n",
       "2819        181.44          NaN     Orthodox           NaN   \n",
       "3174        181.44          NaN     Orthodox           NaN   \n",
       "\n",
       "      significant_strikes_landed_per_minute  significant_striking_accuracy  \\\n",
       "4069                                   0.00                            0.0   \n",
       "2731                                   0.00                            0.0   \n",
       "3815                                   0.00                            0.0   \n",
       "2819                                   2.17                           60.0   \n",
       "3174                                   0.00                            0.0   \n",
       "\n",
       "      significant_strikes_absorbed_per_minute  significant_strike_defence  \\\n",
       "4069                                     0.00                         0.0   \n",
       "2731                                     0.00                         0.0   \n",
       "3815                                     0.00                         0.0   \n",
       "2819                                     6.51                        40.0   \n",
       "3174                                     0.00                         0.0   \n",
       "\n",
       "      average_takedowns_landed_per_15_minutes  takedown_accuracy  \\\n",
       "4069                                      0.0                0.0   \n",
       "2731                                      0.0                0.0   \n",
       "3815                                      0.0                0.0   \n",
       "2819                                      0.0                0.0   \n",
       "3174                                      0.0                0.0   \n",
       "\n",
       "      takedown_defense  average_submissions_attempted_per_15_minutes  \n",
       "4069               0.0                                           0.0  \n",
       "2731               0.0                                           0.0  \n",
       "3815               0.0                                           0.0  \n",
       "2819               0.0                                           0.0  \n",
       "3174               0.0                                           0.0  "
      ]
     },
     "execution_count": 9,
     "metadata": {},
     "output_type": "execute_result"
    }
   ],
   "source": [
    "data.nlargest(5, 'weight_in_kg') # Displays 5 rows with the highest weight_in_kg"
   ]
  },
  {
   "cell_type": "markdown",
   "id": "75563c90-1c54-4516-9f09-1710d332d12a",
   "metadata": {},
   "source": [
    "#### This checks out! A quick google search shows that Emmanuel Yarborough was ~720 pounds. ####"
   ]
  },
  {
   "cell_type": "markdown",
   "id": "d8f3a103-5afd-43c0-be8e-3fc5711b5af7",
   "metadata": {},
   "source": [
    "$\\;\\;\\;\\;\\;\\;$\n",
    "## Changing some column names and units to my preference ##"
   ]
  },
  {
   "cell_type": "code",
   "execution_count": 10,
   "id": "410eb237-c82a-44e0-9e72-79e5db7dfc41",
   "metadata": {
    "scrolled": true
   },
   "outputs": [],
   "source": [
    "data.iloc[:,6] *= 2.20462 # Converts weight values from kilograms to pounds"
   ]
  },
  {
   "cell_type": "code",
   "execution_count": 11,
   "id": "cab73b10-1f52-4336-8d0e-9111449da71a",
   "metadata": {},
   "outputs": [],
   "source": [
    "data.iloc[:,5] *= 0.393701 #Converts height values from centimeters to inches"
   ]
  },
  {
   "cell_type": "code",
   "execution_count": 12,
   "id": "d31ad9b1-82cd-43b4-96ba-6000197f7b3b",
   "metadata": {},
   "outputs": [],
   "source": [
    "data.iloc[:,7] *= 0.393701 #Converts reach values from centimeters to inches"
   ]
  },
  {
   "cell_type": "code",
   "execution_count": 13,
   "id": "82af3062-5186-45e2-bcf1-4ad2ff971dec",
   "metadata": {},
   "outputs": [],
   "source": [
    "data.rename(columns={'height_cm': 'height_inches', 'weight_in_kg': 'weight_in_pounds', 'reach_in_cm': 'reach_in_inches'}, inplace = True)\n",
    "# Changes the column names to reflect the previous changes"
   ]
  },
  {
   "cell_type": "markdown",
   "id": "c8a6685f-f07a-46c6-a7cb-710f6f27074b",
   "metadata": {},
   "source": [
    "$\\;\\;\\;\\;\\;\\;$\n",
    "## Checking for unique and missing data ##"
   ]
  },
  {
   "cell_type": "code",
   "execution_count": 14,
   "id": "f064b18e-4197-4641-b632-0d96ff3706bf",
   "metadata": {
    "scrolled": true
   },
   "outputs": [
    {
     "name": "stderr",
     "output_type": "stream",
     "text": [
      "C:\\Users\\ashep\\AppData\\Local\\Programs\\Python\\Python312\\Lib\\site-packages\\numpy\\core\\fromnumeric.py:86: FutureWarning: The behavior of DataFrame.sum with axis=None is deprecated, in a future version this will reduce over both axes and return a scalar. To retain the old behavior, pass axis=0 (or do not pass axis)\n",
      "  return reduction(axis=axis, out=out, **passkwargs)\n"
     ]
    },
    {
     "data": {
      "text/plain": [
       "name                                               0\n",
       "nickname                                        1854\n",
       "wins                                               0\n",
       "losses                                             0\n",
       "draws                                              0\n",
       "height_inches                                    298\n",
       "weight_in_pounds                                  87\n",
       "reach_in_inches                                 1927\n",
       "stance                                           823\n",
       "date_of_birth                                   1135\n",
       "significant_strikes_landed_per_minute              0\n",
       "significant_striking_accuracy                      0\n",
       "significant_strikes_absorbed_per_minute            0\n",
       "significant_strike_defence                         0\n",
       "average_takedowns_landed_per_15_minutes            0\n",
       "takedown_accuracy                                  0\n",
       "takedown_defense                                   0\n",
       "average_submissions_attempted_per_15_minutes       0\n",
       "dtype: int64"
      ]
     },
     "execution_count": 14,
     "metadata": {},
     "output_type": "execute_result"
    }
   ],
   "source": [
    "np.sum(data.isnull()) #Displays the number of rows with missing data per column"
   ]
  },
  {
   "cell_type": "code",
   "execution_count": 15,
   "id": "748cef01-9cf7-47e1-b6bb-94403ccae13e",
   "metadata": {},
   "outputs": [
    {
     "data": {
      "text/plain": [
       "Index(['nickname', 'height_inches', 'weight_in_pounds', 'reach_in_inches',\n",
       "       'stance', 'date_of_birth'],\n",
       "      dtype='object')"
      ]
     },
     "execution_count": 15,
     "metadata": {},
     "output_type": "execute_result"
    }
   ],
   "source": [
    "data.columns[np.sum(data.isnull()) != 0] #Returns the names of the columns that contain missing data"
   ]
  },
  {
   "cell_type": "code",
   "execution_count": 16,
   "id": "8226b054-30a7-41ac-8a01-f377e53b3704",
   "metadata": {},
   "outputs": [
    {
     "name": "stdout",
     "output_type": "stream",
     "text": [
      "name has 4105 unique values\n",
      "nickname has 1784 unique values\n",
      "wins has 57 unique values\n",
      "losses has 40 unique values\n",
      "draws has 12 unique values\n",
      "height_inches has 26 unique values\n",
      "weight_in_pounds has 112 unique values\n",
      "reach_in_inches has 27 unique values\n",
      "stance has 5 unique values\n",
      "date_of_birth has 2565 unique values\n",
      "significant_strikes_landed_per_minute has 698 unique values\n",
      "significant_striking_accuracy has 83 unique values\n",
      "significant_strikes_absorbed_per_minute has 813 unique values\n",
      "significant_strike_defence has 84 unique values\n",
      "average_takedowns_landed_per_15_minutes has 560 unique values\n",
      "takedown_accuracy has 83 unique values\n",
      "takedown_defense has 94 unique values\n",
      "average_submissions_attempted_per_15_minutes has 99 unique values\n"
     ]
    }
   ],
   "source": [
    "for col in data:\n",
    "    unique_count = data[col].nunique()\n",
    "    print(col + \" has \" + str(unique_count) + \" unique values\")\n",
    "\n",
    "# Simple for loop to print the column names along with how many unique values they contain"
   ]
  },
  {
   "cell_type": "markdown",
   "id": "afff4ed0-b132-47d6-9b05-7418f495333d",
   "metadata": {},
   "source": [
    "$\\;\\;\\;\\;\\;\\;$\n",
    "## Answering Questions ##"
   ]
  },
  {
   "cell_type": "code",
   "execution_count": 17,
   "id": "7db32755-726d-47b0-8a91-0f25265a5128",
   "metadata": {},
   "outputs": [
    {
     "data": {
      "text/plain": [
       "stance\n",
       "Orthodox       2526\n",
       "Southpaw        560\n",
       "Switch          192\n",
       "Open Stance       7\n",
       "Sideways          3\n",
       "Name: count, dtype: int64"
      ]
     },
     "execution_count": 17,
     "metadata": {},
     "output_type": "execute_result"
    }
   ],
   "source": [
    "# What percentage of fighters are Southpaw?\n",
    "data['stance'].value_counts()"
   ]
  },
  {
   "cell_type": "code",
   "execution_count": 18,
   "id": "66cbd136-d053-4d83-ad62-2f26c98ff54f",
   "metadata": {},
   "outputs": [
    {
     "data": {
      "text/plain": [
       "stance\n",
       "Orthodox       76.8%\n",
       "Southpaw       17.0%\n",
       "Switch          5.8%\n",
       "Open Stance     0.2%\n",
       "Sideways        0.1%\n",
       "Name: proportion, dtype: object"
      ]
     },
     "execution_count": 18,
     "metadata": {},
     "output_type": "execute_result"
    }
   ],
   "source": [
    "data.stance.value_counts(normalize=True).mul(100).round(1).astype(str) + '%'"
   ]
  },
  {
   "cell_type": "code",
   "execution_count": 61,
   "id": "f8de94f6-c3d1-4685-9f74-02230c8d959b",
   "metadata": {},
   "outputs": [
    {
     "data": {
      "text/plain": [
       "0.6736630094874649"
      ]
     },
     "execution_count": 61,
     "metadata": {},
     "output_type": "execute_result"
    }
   ],
   "source": [
    "#Is it an advantage to be a lefty? See if Southpaw fighters have a better record, on average\n",
    "\n",
    "ttl_wins = data['wins'].sum() \n",
    "ttl_fights = data[['wins', 'losses', 'draws']].sum().sum()\n",
    "\n",
    "ttl_wins/ttl_fights\n",
    "# Win percentage for all fighters"
   ]
  },
  {
   "cell_type": "code",
   "execution_count": 59,
   "id": "8b4893dd-cb9e-44ec-9e75-00043ff906f0",
   "metadata": {},
   "outputs": [
    {
     "data": {
      "text/plain": [
       "0.6842369058558182"
      ]
     },
     "execution_count": 59,
     "metadata": {},
     "output_type": "execute_result"
    }
   ],
   "source": [
    "southpaws = data[data['stance'] == 'Southpaw']\n",
    "sp_wins = southpaws['wins'].sum()\n",
    "sp_fights = southpaws[['wins', 'losses', 'draws']].sum().sum()\n",
    "sp_wins/sp_fights"
   ]
  },
  {
   "cell_type": "code",
   "execution_count": 21,
   "id": "9bc208af-3370-46dd-b90d-77fb86824975",
   "metadata": {},
   "outputs": [],
   "source": [
    "#We can see that southpaws do slightly win more!"
   ]
  },
  {
   "cell_type": "markdown",
   "id": "5402f2ac-054c-4a68-ad4c-6cc0990aac96",
   "metadata": {},
   "source": [
    "$\\;\\;\\;\\;\\;\\;$\n",
    "\n",
    "Anderson Silva is my favorite fighter. How can I see his stats?\n"
   ]
  },
  {
   "cell_type": "code",
   "execution_count": 22,
   "id": "fda8b8ea-77de-4027-884f-8d15b5b5ce08",
   "metadata": {},
   "outputs": [
    {
     "data": {
      "text/html": [
       "<div>\n",
       "<style scoped>\n",
       "    .dataframe tbody tr th:only-of-type {\n",
       "        vertical-align: middle;\n",
       "    }\n",
       "\n",
       "    .dataframe tbody tr th {\n",
       "        vertical-align: top;\n",
       "    }\n",
       "\n",
       "    .dataframe thead th {\n",
       "        text-align: right;\n",
       "    }\n",
       "</style>\n",
       "<table border=\"1\" class=\"dataframe\">\n",
       "  <thead>\n",
       "    <tr style=\"text-align: right;\">\n",
       "      <th></th>\n",
       "      <th>name</th>\n",
       "      <th>nickname</th>\n",
       "      <th>wins</th>\n",
       "      <th>losses</th>\n",
       "      <th>draws</th>\n",
       "      <th>height_inches</th>\n",
       "      <th>weight_in_pounds</th>\n",
       "      <th>reach_in_inches</th>\n",
       "      <th>stance</th>\n",
       "      <th>date_of_birth</th>\n",
       "      <th>significant_strikes_landed_per_minute</th>\n",
       "      <th>significant_striking_accuracy</th>\n",
       "      <th>significant_strikes_absorbed_per_minute</th>\n",
       "      <th>significant_strike_defence</th>\n",
       "      <th>average_takedowns_landed_per_15_minutes</th>\n",
       "      <th>takedown_accuracy</th>\n",
       "      <th>takedown_defense</th>\n",
       "      <th>average_submissions_attempted_per_15_minutes</th>\n",
       "    </tr>\n",
       "  </thead>\n",
       "  <tbody>\n",
       "    <tr>\n",
       "      <th>888</th>\n",
       "      <td>Anderson Silva</td>\n",
       "      <td>The Spider</td>\n",
       "      <td>34</td>\n",
       "      <td>11</td>\n",
       "      <td>0</td>\n",
       "      <td>74.00004</td>\n",
       "      <td>184.989664</td>\n",
       "      <td>77.000042</td>\n",
       "      <td>Southpaw</td>\n",
       "      <td>1975-04-14</td>\n",
       "      <td>3.05</td>\n",
       "      <td>61.0</td>\n",
       "      <td>2.05</td>\n",
       "      <td>60.0</td>\n",
       "      <td>0.5</td>\n",
       "      <td>77.0</td>\n",
       "      <td>69.0</td>\n",
       "      <td>0.8</td>\n",
       "    </tr>\n",
       "  </tbody>\n",
       "</table>\n",
       "</div>"
      ],
      "text/plain": [
       "               name    nickname  wins  losses  draws  height_inches  \\\n",
       "888  Anderson Silva  The Spider    34      11      0       74.00004   \n",
       "\n",
       "     weight_in_pounds  reach_in_inches    stance date_of_birth  \\\n",
       "888        184.989664        77.000042  Southpaw    1975-04-14   \n",
       "\n",
       "     significant_strikes_landed_per_minute  significant_striking_accuracy  \\\n",
       "888                                   3.05                           61.0   \n",
       "\n",
       "     significant_strikes_absorbed_per_minute  significant_strike_defence  \\\n",
       "888                                     2.05                        60.0   \n",
       "\n",
       "     average_takedowns_landed_per_15_minutes  takedown_accuracy  \\\n",
       "888                                      0.5               77.0   \n",
       "\n",
       "     takedown_defense  average_submissions_attempted_per_15_minutes  \n",
       "888              69.0                                           0.8  "
      ]
     },
     "execution_count": 22,
     "metadata": {},
     "output_type": "execute_result"
    }
   ],
   "source": [
    "data.loc[data['name'] == \"Anderson Silva\"]"
   ]
  },
  {
   "cell_type": "code",
   "execution_count": null,
   "id": "8da5d7e8-752f-4121-ac93-f7d4b55760ad",
   "metadata": {},
   "outputs": [],
   "source": []
  }
 ],
 "metadata": {
  "kernelspec": {
   "display_name": "Python 3 (ipykernel)",
   "language": "python",
   "name": "python3"
  },
  "language_info": {
   "codemirror_mode": {
    "name": "ipython",
    "version": 3
   },
   "file_extension": ".py",
   "mimetype": "text/x-python",
   "name": "python",
   "nbconvert_exporter": "python",
   "pygments_lexer": "ipython3",
   "version": "3.12.1"
  }
 },
 "nbformat": 4,
 "nbformat_minor": 5
}
